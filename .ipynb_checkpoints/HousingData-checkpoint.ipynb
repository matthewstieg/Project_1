{
 "cells": [
  {
   "cell_type": "code",
   "execution_count": 33,
   "metadata": {},
   "outputs": [],
   "source": [
    " # Dependencies and Setup\n",
    "import matplotlib.pyplot as plt\n",
    "import pandas as pd\n",
    "import numpy as np\n",
    "import requests\n",
    "import time\n",
    "import json\n",
    "from pprint import pprint\n",
    "import xml\n",
    "\n",
    "# Import API key\n",
    "api_key = \"_bs2az8Po_uWLyaf_Dbu\"\n",
    "# Incorporated citipy to determine city based on latitude and longitude\n",
    "from citipy import citipy"
   ]
  },
  {
   "cell_type": "code",
   "execution_count": 34,
   "metadata": {},
   "outputs": [
    {
     "name": "stdout",
     "output_type": "stream",
     "text": [
      "{'dataset': {'collapse': 'annual',\n",
      "             'column_index': None,\n",
      "             'column_names': ['Date', 'Value'],\n",
      "             'data': [['2019-12-31', 152.0],\n",
      "                      ['2018-12-31', 150.0],\n",
      "                      ['2017-12-31', 138.0],\n",
      "                      ['2016-12-31', 128.0],\n",
      "                      ['2015-12-31', 119.0],\n",
      "                      ['2014-12-31', 111.0],\n",
      "                      ['2013-12-31', 106.0],\n",
      "                      ['2012-12-31', 93.0],\n",
      "                      ['2011-12-31', 79.0],\n",
      "                      ['2010-12-31', 86.0],\n",
      "                      ['2009-12-31', 94.0]],\n",
      "             'database_code': 'ZILLOW',\n",
      "             'database_id': 15274,\n",
      "             'dataset_code': 'S5_MVALFAH',\n",
      "             'description': \"The Zillow Home Value Index is Zillow's estimate \"\n",
      "                            'of the median market value of median value per '\n",
      "                            'square foot - all homes within the state of '\n",
      "                            'Arizona. This data is calculated by Zillow Real '\n",
      "                            'Estate Research (www.zillow.com/research) using '\n",
      "                            'their database of 110 million homes.',\n",
      "             'end_date': '2019-02-28',\n",
      "             'frequency': 'monthly',\n",
      "             'id': 41430569,\n",
      "             'limit': 11,\n",
      "             'name': 'Zillow Home Value Index (State): Median Value Per Square '\n",
      "                     'Foot - All Homes - Arizona',\n",
      "             'newest_available_date': '2019-02-28',\n",
      "             'oldest_available_date': '1996-04-30',\n",
      "             'order': None,\n",
      "             'premium': False,\n",
      "             'refreshed_at': '2019-03-31T05:01:43.883Z',\n",
      "             'start_date': '1996-04-30',\n",
      "             'transform': None,\n",
      "             'type': 'Time Series'}}\n"
     ]
    }
   ],
   "source": [
    "area_category = \"S\"\n",
    "area_code = \"5\"\n",
    "indicator_code = \"MVALFAH\"\n",
    "frequency = \"annual\"\n",
    "numberofrows = \"11\"\n",
    "# Zillow - Median Value Per Square Foot - All Homes|MVALFAH\n",
    "\n",
    "\n",
    "test_url = f\"https://www.quandl.com/api/v3/datasets/ZILLOW/{area_category}{area_code}_{indicator_code}?&collapse={frequency}&rows={numberofrows}\"\n",
    "\n",
    "response = requests.get(test_url).json()\n",
    "# pprint(response)\n",
    "pprint(response)"
   ]
  },
  {
   "cell_type": "code",
   "execution_count": null,
   "metadata": {},
   "outputs": [],
   "source": []
  },
  {
   "cell_type": "code",
   "execution_count": null,
   "metadata": {},
   "outputs": [],
   "source": []
  }
 ],
 "metadata": {
  "kernelspec": {
   "display_name": "Python 3",
   "language": "python",
   "name": "python3"
  },
  "language_info": {
   "codemirror_mode": {
    "name": "ipython",
    "version": 3
   },
   "file_extension": ".py",
   "mimetype": "text/x-python",
   "name": "python",
   "nbconvert_exporter": "python",
   "pygments_lexer": "ipython3",
   "version": "3.7.1"
  }
 },
 "nbformat": 4,
 "nbformat_minor": 2
}
